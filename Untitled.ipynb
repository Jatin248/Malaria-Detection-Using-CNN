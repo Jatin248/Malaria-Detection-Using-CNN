{
 "cells": [
  {
   "cell_type": "code",
   "execution_count": 1,
   "metadata": {
    "scrolled": true
   },
   "outputs": [
    {
     "name": "stderr",
     "output_type": "stream",
     "text": [
      "Using TensorFlow backend.\n"
     ]
    }
   ],
   "source": [
    "import numpy as np\n",
    "import tensorflow as tf\n",
    "from keras.preprocessing.image import ImageDataGenerator"
   ]
  },
  {
   "cell_type": "code",
   "execution_count": 2,
   "metadata": {},
   "outputs": [],
   "source": [
    "training = r'C:\\Users\\dell\\Desktop\\cell_images\\cell_images\\train'\n",
    "test = r'C:\\Users\\dell\\Desktop\\cell_images\\cell_images\\valid'"
   ]
  },
  {
   "cell_type": "code",
   "execution_count": 3,
   "metadata": {},
   "outputs": [
    {
     "name": "stdout",
     "output_type": "stream",
     "text": [
      "Found 22046 images belonging to 2 classes.\n"
     ]
    }
   ],
   "source": [
    "train_datagen = ImageDataGenerator(\n",
    "        rescale=1./255,\n",
    "        shear_range=0.2,\n",
    "        zoom_range=0.2,\n",
    "        horizontal_flip=True)\n",
    "train_generator = train_datagen.flow_from_directory(\n",
    "        training,\n",
    "        target_size=(64, 64),\n",
    "        batch_size=256,\n",
    "        class_mode='binary')"
   ]
  },
  {
   "cell_type": "code",
   "execution_count": 4,
   "metadata": {},
   "outputs": [
    {
     "name": "stdout",
     "output_type": "stream",
     "text": [
      "Found 5512 images belonging to 2 classes.\n"
     ]
    }
   ],
   "source": [
    "test_datagen = ImageDataGenerator(rescale=1./255)\n",
    "test_set = test_datagen.flow_from_directory(test,\n",
    "                                            target_size = (64, 64),\n",
    "                                            batch_size = 256,\n",
    "                                            class_mode = 'binary')\n"
   ]
  },
  {
   "cell_type": "code",
   "execution_count": 5,
   "metadata": {},
   "outputs": [],
   "source": [
    "cnn = tf.keras.models.Sequential()"
   ]
  },
  {
   "cell_type": "code",
   "execution_count": 6,
   "metadata": {},
   "outputs": [],
   "source": [
    "cnn.add(tf.keras.layers.Conv2D(filters = 32,kernel_size=3,activation ='relu',input_shape = [64,64,3]))"
   ]
  },
  {
   "cell_type": "code",
   "execution_count": 7,
   "metadata": {},
   "outputs": [],
   "source": [
    "cnn.add(tf.keras.layers.MaxPool2D(pool_size=2,strides=2))"
   ]
  },
  {
   "cell_type": "code",
   "execution_count": 8,
   "metadata": {},
   "outputs": [],
   "source": [
    "cnn.add(tf.keras.layers.Conv2D(filters = 32,kernel_size=3,activation ='relu'))"
   ]
  },
  {
   "cell_type": "code",
   "execution_count": 9,
   "metadata": {},
   "outputs": [],
   "source": [
    "cnn.add(tf.keras.layers.MaxPool2D(pool_size=2,strides=2))"
   ]
  },
  {
   "cell_type": "code",
   "execution_count": 10,
   "metadata": {},
   "outputs": [],
   "source": [
    "cnn.add(tf.keras.layers.Flatten())"
   ]
  },
  {
   "cell_type": "code",
   "execution_count": 11,
   "metadata": {},
   "outputs": [],
   "source": [
    "cnn.add(tf.keras.layers.Dense(units=128, activation='relu'))\n"
   ]
  },
  {
   "cell_type": "code",
   "execution_count": 12,
   "metadata": {},
   "outputs": [],
   "source": [
    "cnn.add(tf.keras.layers.Dense(units=128, activation='relu'))\n"
   ]
  },
  {
   "cell_type": "code",
   "execution_count": 13,
   "metadata": {},
   "outputs": [],
   "source": [
    "cnn.add(tf.keras.layers.Dense(units=1,activation='sigmoid'))"
   ]
  },
  {
   "cell_type": "code",
   "execution_count": 14,
   "metadata": {},
   "outputs": [],
   "source": [
    "cnn.compile(optimizer = 'adam',loss = 'binary_crossentropy', metrics = ['accuracy'])"
   ]
  },
  {
   "cell_type": "code",
   "execution_count": 15,
   "metadata": {},
   "outputs": [
    {
     "name": "stdout",
     "output_type": "stream",
     "text": [
      "WARNING:tensorflow:sample_weight modes were coerced from\n",
      "  ...\n",
      "    to  \n",
      "  ['...']\n",
      "WARNING:tensorflow:sample_weight modes were coerced from\n",
      "  ...\n",
      "    to  \n",
      "  ['...']\n",
      "Train for 87 steps, validate for 22 steps\n",
      "Epoch 1/50\n",
      "87/87 [==============================] - 57s 655ms/step - loss: 0.6714 - accuracy: 0.5741 - val_loss: 0.6010 - val_accuracy: 0.7104\n",
      "Epoch 2/50\n",
      "87/87 [==============================] - 41s 467ms/step - loss: 0.5797 - accuracy: 0.6916 - val_loss: 0.4771 - val_accuracy: 0.7856\n",
      "Epoch 3/50\n",
      "87/87 [==============================] - 41s 467ms/step - loss: 0.4959 - accuracy: 0.7598 - val_loss: 0.4007 - val_accuracy: 0.8222\n",
      "Epoch 4/50\n",
      "87/87 [==============================] - 41s 467ms/step - loss: 0.3473 - accuracy: 0.8514 - val_loss: 0.2519 - val_accuracy: 0.9126\n",
      "Epoch 5/50\n",
      "87/87 [==============================] - 41s 470ms/step - loss: 0.2441 - accuracy: 0.9054 - val_loss: 0.1898 - val_accuracy: 0.9307\n",
      "Epoch 6/50\n",
      "87/87 [==============================] - 41s 469ms/step - loss: 0.2104 - accuracy: 0.9206 - val_loss: 0.1778 - val_accuracy: 0.9360\n",
      "Epoch 7/50\n",
      "87/87 [==============================] - 41s 467ms/step - loss: 0.1957 - accuracy: 0.9277 - val_loss: 0.1598 - val_accuracy: 0.9445\n",
      "Epoch 8/50\n",
      "87/87 [==============================] - 41s 473ms/step - loss: 0.1845 - accuracy: 0.9316 - val_loss: 0.1522 - val_accuracy: 0.9458\n",
      "Epoch 9/50\n",
      "87/87 [==============================] - 41s 473ms/step - loss: 0.1739 - accuracy: 0.9370 - val_loss: 0.1490 - val_accuracy: 0.9485\n",
      "Epoch 10/50\n",
      "87/87 [==============================] - 41s 469ms/step - loss: 0.1741 - accuracy: 0.9369 - val_loss: 0.1495 - val_accuracy: 0.9474\n",
      "Epoch 11/50\n",
      "87/87 [==============================] - 41s 469ms/step - loss: 0.1678 - accuracy: 0.9396 - val_loss: 0.1474 - val_accuracy: 0.9503\n",
      "Epoch 12/50\n",
      "87/87 [==============================] - 41s 467ms/step - loss: 0.1581 - accuracy: 0.9445 - val_loss: 0.1470 - val_accuracy: 0.9497\n",
      "Epoch 13/50\n",
      "87/87 [==============================] - 41s 468ms/step - loss: 0.1574 - accuracy: 0.9435 - val_loss: 0.1449 - val_accuracy: 0.9479\n",
      "Epoch 14/50\n",
      "87/87 [==============================] - 41s 467ms/step - loss: 0.1926 - accuracy: 0.9287 - val_loss: 0.1811 - val_accuracy: 0.9383\n",
      "Epoch 15/50\n",
      "87/87 [==============================] - 41s 471ms/step - loss: 0.1711 - accuracy: 0.9371 - val_loss: 0.1478 - val_accuracy: 0.9510\n",
      "Epoch 16/50\n",
      "87/87 [==============================] - 41s 471ms/step - loss: 0.1639 - accuracy: 0.9409 - val_loss: 0.1477 - val_accuracy: 0.9512\n",
      "Epoch 17/50\n",
      "87/87 [==============================] - 41s 466ms/step - loss: 0.1552 - accuracy: 0.9431 - val_loss: 0.1510 - val_accuracy: 0.9479\n",
      "Epoch 18/50\n",
      "87/87 [==============================] - 41s 468ms/step - loss: 0.1665 - accuracy: 0.9402 - val_loss: 0.1475 - val_accuracy: 0.9505\n",
      "Epoch 19/50\n",
      "87/87 [==============================] - 41s 470ms/step - loss: 0.1553 - accuracy: 0.9445 - val_loss: 0.1414 - val_accuracy: 0.9505\n",
      "Epoch 20/50\n",
      "87/87 [==============================] - 41s 470ms/step - loss: 0.1505 - accuracy: 0.9440 - val_loss: 0.1430 - val_accuracy: 0.9503\n",
      "Epoch 21/50\n",
      "87/87 [==============================] - 41s 469ms/step - loss: 0.1472 - accuracy: 0.9461 - val_loss: 0.1489 - val_accuracy: 0.9485\n",
      "Epoch 22/50\n",
      "87/87 [==============================] - 42s 480ms/step - loss: 0.1476 - accuracy: 0.9462 - val_loss: 0.1464 - val_accuracy: 0.9499\n",
      "Epoch 23/50\n",
      "87/87 [==============================] - 41s 477ms/step - loss: 0.1461 - accuracy: 0.9463 - val_loss: 0.1426 - val_accuracy: 0.9499\n",
      "Epoch 24/50\n",
      "87/87 [==============================] - 41s 469ms/step - loss: 0.1456 - accuracy: 0.9470 - val_loss: 0.1365 - val_accuracy: 0.9536\n",
      "Epoch 25/50\n",
      "87/87 [==============================] - 41s 469ms/step - loss: 0.1601 - accuracy: 0.9405 - val_loss: 0.1661 - val_accuracy: 0.9394\n",
      "Epoch 26/50\n",
      "87/87 [==============================] - 41s 467ms/step - loss: 0.1466 - accuracy: 0.9461 - val_loss: 0.1475 - val_accuracy: 0.9494\n",
      "Epoch 27/50\n",
      "87/87 [==============================] - 40s 465ms/step - loss: 0.1406 - accuracy: 0.9495 - val_loss: 0.1577 - val_accuracy: 0.9485\n",
      "Epoch 28/50\n",
      "87/87 [==============================] - 40s 462ms/step - loss: 0.1369 - accuracy: 0.9495 - val_loss: 0.1402 - val_accuracy: 0.9521\n",
      "Epoch 29/50\n",
      "87/87 [==============================] - 41s 470ms/step - loss: 0.1321 - accuracy: 0.9536 - val_loss: 0.1365 - val_accuracy: 0.9554\n",
      "Epoch 30/50\n",
      "87/87 [==============================] - 41s 468ms/step - loss: 0.1327 - accuracy: 0.9537 - val_loss: 0.1354 - val_accuracy: 0.9528\n",
      "Epoch 31/50\n",
      "87/87 [==============================] - 41s 467ms/step - loss: 0.1309 - accuracy: 0.9521 - val_loss: 0.1366 - val_accuracy: 0.9530\n",
      "Epoch 32/50\n",
      "87/87 [==============================] - 41s 473ms/step - loss: 0.1293 - accuracy: 0.9520 - val_loss: 0.1424 - val_accuracy: 0.9494\n",
      "Epoch 33/50\n",
      "87/87 [==============================] - 41s 472ms/step - loss: 0.1280 - accuracy: 0.9530 - val_loss: 0.1340 - val_accuracy: 0.9539\n",
      "Epoch 34/50\n",
      "87/87 [==============================] - 41s 469ms/step - loss: 0.1277 - accuracy: 0.9534 - val_loss: 0.1373 - val_accuracy: 0.9552\n",
      "Epoch 35/50\n",
      "87/87 [==============================] - 41s 471ms/step - loss: 0.1208 - accuracy: 0.9558 - val_loss: 0.1349 - val_accuracy: 0.9530\n",
      "Epoch 36/50\n",
      "87/87 [==============================] - 41s 469ms/step - loss: 0.1167 - accuracy: 0.9573 - val_loss: 0.1378 - val_accuracy: 0.9545\n",
      "Epoch 37/50\n",
      "87/87 [==============================] - 41s 472ms/step - loss: 0.1194 - accuracy: 0.9566 - val_loss: 0.1388 - val_accuracy: 0.9541\n",
      "Epoch 38/50\n",
      "87/87 [==============================] - 40s 464ms/step - loss: 0.1234 - accuracy: 0.9545 - val_loss: 0.1322 - val_accuracy: 0.9550\n",
      "Epoch 39/50\n",
      "87/87 [==============================] - 41s 473ms/step - loss: 0.1168 - accuracy: 0.9591 - val_loss: 0.1399 - val_accuracy: 0.9505\n",
      "Epoch 40/50\n",
      "87/87 [==============================] - 41s 469ms/step - loss: 0.1114 - accuracy: 0.9595 - val_loss: 0.1370 - val_accuracy: 0.9519\n",
      "Epoch 41/50\n",
      "87/87 [==============================] - 41s 474ms/step - loss: 0.1088 - accuracy: 0.9611 - val_loss: 0.1410 - val_accuracy: 0.9512\n",
      "Epoch 42/50\n",
      "87/87 [==============================] - 41s 473ms/step - loss: 0.1079 - accuracy: 0.9609 - val_loss: 0.1422 - val_accuracy: 0.9499\n",
      "Epoch 43/50\n",
      "87/87 [==============================] - 43s 492ms/step - loss: 0.1063 - accuracy: 0.9615 - val_loss: 0.1447 - val_accuracy: 0.9516\n",
      "Epoch 44/50\n",
      "87/87 [==============================] - 41s 472ms/step - loss: 0.1076 - accuracy: 0.9612 - val_loss: 0.1602 - val_accuracy: 0.9427\n",
      "Epoch 45/50\n",
      "87/87 [==============================] - 41s 475ms/step - loss: 0.1121 - accuracy: 0.9593 - val_loss: 0.1504 - val_accuracy: 0.9516\n",
      "Epoch 46/50\n",
      "87/87 [==============================] - 42s 477ms/step - loss: 0.1049 - accuracy: 0.9625 - val_loss: 0.1508 - val_accuracy: 0.9507\n",
      "Epoch 47/50\n",
      "87/87 [==============================] - 42s 480ms/step - loss: 0.1035 - accuracy: 0.9634 - val_loss: 0.1511 - val_accuracy: 0.9552\n",
      "Epoch 48/50\n",
      "87/87 [==============================] - 41s 476ms/step - loss: 0.1026 - accuracy: 0.9630 - val_loss: 0.1436 - val_accuracy: 0.9532\n",
      "Epoch 49/50\n",
      "87/87 [==============================] - 41s 468ms/step - loss: 0.1007 - accuracy: 0.9643 - val_loss: 0.1593 - val_accuracy: 0.9467\n",
      "Epoch 50/50\n",
      "87/87 [==============================] - 41s 472ms/step - loss: 0.1063 - accuracy: 0.9619 - val_loss: 0.1520 - val_accuracy: 0.9552\n"
     ]
    },
    {
     "data": {
      "text/plain": [
       "<tensorflow.python.keras.callbacks.History at 0x21ca076f088>"
      ]
     },
     "execution_count": 15,
     "metadata": {},
     "output_type": "execute_result"
    }
   ],
   "source": [
    "cnn.fit(x = train_generator, validation_data = test_set,epochs = 50)\n"
   ]
  },
  {
   "cell_type": "code",
   "execution_count": 25,
   "metadata": {},
   "outputs": [],
   "source": [
    "\n",
    "import numpy as np\n",
    "from keras.preprocessing import image\n",
    "test_image = image.load_img(r'C:\\Users\\dell\\Desktop\\cell_images\\cell_images\\random4.png', target_size = (64, 64))\n",
    "test_image = image.img_to_array(test_image)\n",
    "test_image = np.expand_dims(test_image, axis = 0)\n",
    "result = cnn.predict(test_image)\n",
    "train_generator.class_indices\n",
    "if result[0][0] == 0:\n",
    "  prediction = 'Maleria'\n",
    "else:\n",
    "  prediction = 'Not Maleria'"
   ]
  },
  {
   "cell_type": "code",
   "execution_count": 26,
   "metadata": {},
   "outputs": [
    {
     "name": "stdout",
     "output_type": "stream",
     "text": [
      "Maleria\n"
     ]
    }
   ],
   "source": [
    "print(prediction)\n"
   ]
  },
  {
   "cell_type": "code",
   "execution_count": null,
   "metadata": {},
   "outputs": [],
   "source": []
  }
 ],
 "metadata": {
  "kernelspec": {
   "display_name": "Python 3",
   "language": "python",
   "name": "python3"
  },
  "language_info": {
   "codemirror_mode": {
    "name": "ipython",
    "version": 3
   },
   "file_extension": ".py",
   "mimetype": "text/x-python",
   "name": "python",
   "nbconvert_exporter": "python",
   "pygments_lexer": "ipython3",
   "version": "3.7.9"
  }
 },
 "nbformat": 4,
 "nbformat_minor": 4
}
